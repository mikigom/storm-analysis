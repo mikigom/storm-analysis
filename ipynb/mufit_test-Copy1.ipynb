{
 "cells": [
  {
   "cell_type": "code",
   "execution_count": 1,
   "metadata": {
    "collapsed": false,
    "deletable": true,
    "editable": true
   },
   "outputs": [
    {
     "name": "stdout",
     "output_type": "stream",
     "text": [
      "Peak finding\n",
      "('Found', 'sample_plate-Copy1.bin')\n",
      "('Version:', 'M425')\n",
      "('Frames:', 1)\n",
      "('Status:', 6)\n",
      "('Molecules:', 11284)\n",
      "\n",
      "(' Starting analysis at frame:', 41)\n",
      "\n",
      "('Added', 11284)\n",
      "\n",
      "Tracking\n",
      "Analysis complete\n"
     ]
    }
   ],
   "source": [
    "from storm_analysis.daostorm_3d.mufit_analysis import analyze\n",
    "analyze(\"image7_t1.tiff\", \"sample_plate-Copy1.bin\", \"3d_zfit-Copy1.xml\")"
   ]
  },
  {
   "cell_type": "code",
   "execution_count": null,
   "metadata": {
    "collapsed": true,
    "deletable": true,
    "editable": true
   },
   "outputs": [],
   "source": []
  }
 ],
 "metadata": {
  "kernelspec": {
   "display_name": "Python 2",
   "language": "python",
   "name": "python2"
  },
  "language_info": {
   "codemirror_mode": {
    "name": "ipython",
    "version": 2
   },
   "file_extension": ".py",
   "mimetype": "text/x-python",
   "name": "python",
   "nbconvert_exporter": "python",
   "pygments_lexer": "ipython2",
   "version": "2.7.6"
  }
 },
 "nbformat": 4,
 "nbformat_minor": 1
}
