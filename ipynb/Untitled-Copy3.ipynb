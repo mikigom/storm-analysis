{
 "cells": [
  {
   "cell_type": "code",
   "execution_count": 1,
   "metadata": {
    "collapsed": false,
    "deletable": true,
    "editable": true
   },
   "outputs": [],
   "source": [
    "from storm_analysis.daostorm_3d.mufit_analysis import analyze\n",
    "import storm_analysis.sa_library.readinsight3 as readinsight3\n",
    "import sys\n",
    "import numpy as np\n",
    "import matplotlib.pyplot as plt"
   ]
  },
  {
   "cell_type": "code",
   "execution_count": 2,
   "metadata": {
    "collapsed": true,
    "deletable": true,
    "editable": true
   },
   "outputs": [],
   "source": [
    "sample_i3 = './sample_plate-Copy1.bin'"
   ]
  },
  {
   "cell_type": "code",
   "execution_count": 18,
   "metadata": {
    "collapsed": false,
    "deletable": true,
    "editable": true
   },
   "outputs": [
    {
     "name": "stdout",
     "output_type": "stream",
     "text": [
      "('Version:', 'M425')\n",
      "('Frames:', 1)\n",
      "('Status:', 6)\n",
      "('Molecules:', 11284)\n",
      "\n"
     ]
    }
   ],
   "source": [
    "i3_reader = readinsight3.I3Reader(sample_i3)\n",
    "frames = i3_reader.getNumberFrames()\n",
    "\n",
    "w_x_mean_list = []\n",
    "w_y_mean_list = []\n",
    "for i in range(1, frames+1):\n",
    "    data = i3_reader.getMoleculesInFrameRange(start = i, stop = i+1)\n",
    "    molecules = len(data)\n",
    "    \n",
    "    xc = np.zeros(molecules)\n",
    "    yc = np.zeros(molecules)\n",
    "    zc = np.zeros(molecules)\n",
    "    w = np.zeros(molecules)\n",
    "    ratio = np.zeros(molecules)\n",
    "    \n",
    "    for j in range(molecules):\n",
    "        w[j] = data[j][6]\n",
    "        ratio[j] = data[j][8]\n",
    "        \n",
    "    w_x = np.sqrt(w*w/ratio)\n",
    "    w_y = np.sqrt(w*w*ratio)\n",
    "    \n",
    "    # Outlier removal\n",
    "    w_x_mean = np.mean(w_x, axis=0)\n",
    "    w_x_sd = np.std(w_x, axis=0)\n",
    "\n",
    "    w_x_final_list = [x for x in w_x if (x > w_x_mean - 2 * w_x_sd)]\n",
    "    w_x_final_list = [x for x in w_x_final_list if (x < w_x_mean + 2 * w_x_sd)]\n",
    "    \n",
    "    w_y_mean = np.mean(w_y, axis=0)\n",
    "    w_y_sd = np.std(w_y, axis=0)\n",
    "\n",
    "    w_y_final_list = [y for y in w_y if (y > w_y_mean - 2 * w_y_sd)]\n",
    "    w_y_final_list = [y for y in w_y_final_list if (y < w_y_mean + 2 * w_y_sd)]\n",
    "    \n",
    "    w_x_mean_updated = np.mean(w_x_final_list)\n",
    "    w_y_mean_updated = np.mean(w_y_final_list)\n",
    "    \n",
    "    w_x_mean_list.append(w_x_mean_updated)\n",
    "    w_y_mean_list.append(w_y_mean_updated)"
   ]
  },
  {
   "cell_type": "code",
   "execution_count": 19,
   "metadata": {
    "collapsed": false
   },
   "outputs": [
    {
     "data": {
      "image/png": "[encoded data removed]",
      "text/plain": [
       "<matplotlib.figure.Figure at 0x7f8b339ced90>"
      ]
     },
     "metadata": {},
     "output_type": "display_data"
    }
   ],
   "source": [
    "colors = ['b', 'r']\n",
    "\n",
    "z = np.linspace(-1000, +1000, 41, dtype = float)\n",
    "\n",
    "wx_plot = plt.scatter(z, w_x_mean_list, marker='o', c=colors[0], edgecolors = 'face')\n",
    "wy_plot = plt.scatter(z, w_y_mean_list, marker='o', c=colors[1], edgecolors = 'face')\n",
    "\n",
    "plt.legend((wx_plot, wy_plot),\n",
    "           ('wx', 'wy'),\n",
    "           scatterpoints=1,\n",
    "           loc='lower left',\n",
    "           ncol=3,\n",
    "           fontsize=8)\n",
    "\n",
    "plt.show()"
   ]
  },
  {
   "cell_type": "code",
   "execution_count": null,
   "metadata": {
    "collapsed": true
   },
   "outputs": [],
   "source": []
  }
 ],
 "metadata": {
  "kernelspec": {
   "display_name": "Python 2",
   "language": "python",
   "name": "python2"
  },
  "language_info": {
   "codemirror_mode": {
    "name": "ipython",
    "version": 2
   },
   "file_extension": ".py",
   "mimetype": "text/x-python",
   "name": "python",
   "nbconvert_exporter": "python",
   "pygments_lexer": "ipython2",
   "version": "2.7.6"
  }
 },
 "nbformat": 4,
 "nbformat_minor": 2
}
