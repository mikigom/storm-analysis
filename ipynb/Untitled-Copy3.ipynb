{
 "cells": [
  {
   "cell_type": "code",
   "execution_count": 2,
   "metadata": {
    "collapsed": false,
    "deletable": true,
    "editable": true
   },
   "outputs": [],
   "source": [
    "from storm_analysis.daostorm_3d.mufit_analysis import analyze\n",
    "import storm_analysis.sa_library.readinsight3 as readinsight3\n",
    "import sys\n",
    "import numpy as np\n",
    "import matplotlib.pyplot as plt"
   ]
  },
  {
   "cell_type": "code",
   "execution_count": 3,
   "metadata": {
    "collapsed": true,
    "deletable": true,
    "editable": true
   },
   "outputs": [],
   "source": [
    "sample_i3 = './sample_plate-Copy1.bin'"
   ]
  },
  {
   "cell_type": "code",
   "execution_count": 4,
   "metadata": {
    "collapsed": false,
    "deletable": true,
    "editable": true
   },
   "outputs": [
    {
     "name": "stdout",
     "output_type": "stream",
     "text": [
      "('Version:', 'M425')\n",
      "('Frames:', 1)\n",
      "('Status:', 6)\n",
      "('Molecules:', 11284)\n",
      "\n"
     ]
    }
   ],
   "source": [
    "i3_reader = readinsight3.I3Reader(sample_i3)\n",
    "frames = i3_reader.getNumberFrames()\n",
    "\n",
    "w_x_mean_list = []\n",
    "w_y_mean_list = []\n",
    "for i in range(1, frames+1):\n",
    "    data = i3_reader.getMoleculesInFrameRange(start = i, stop = i+1)\n",
    "    molecules = len(data)\n",
    "    \n",
    "    xc = np.zeros(molecules)\n",
    "    yc = np.zeros(molecules)\n",
    "    zc = np.zeros(molecules)\n",
    "    w = np.zeros(molecules)\n",
    "    ratio = np.zeros(molecules)\n",
    "    \n",
    "    for j in range(molecules):\n",
    "        w[j] = data[j][6]\n",
    "        ratio[j] = data[j][8]\n",
    "        \n",
    "    w_x = np.sqrt(w*w/ratio)\n",
    "    w_y = np.sqrt(w*w*ratio)\n",
    "    \n",
    "    # Outlier removal\n",
    "    w_x_mean = np.mean(w_x, axis=0)\n",
    "    w_x_sd = np.std(w_x, axis=0)\n",
    "\n",
    "    w_x_final_list = [x for x in w_x if (x > w_x_mean - 2 * w_x_sd)]\n",
    "    w_x_final_list = [x for x in w_x_final_list if (x < w_x_mean + 2 * w_x_sd)]\n",
    "    \n",
    "    w_y_mean = np.mean(w_y, axis=0)\n",
    "    w_y_sd = np.std(w_y, axis=0)\n",
    "\n",
    "    w_y_final_list = [y for y in w_y if (y > w_y_mean - 2 * w_y_sd)]\n",
    "    w_y_final_list = [y for y in w_y_final_list if (y < w_y_mean + 2 * w_y_sd)]\n",
    "    \n",
    "    w_x_mean_updated = np.mean(w_x_final_list)\n",
    "    w_y_mean_updated = np.mean(w_y_final_list)\n",
    "    \n",
    "    w_x_mean_list.append(w_x_mean_updated)\n",
    "    w_y_mean_list.append(w_y_mean_updated)"
   ]
  },
  {
   "cell_type": "code",
   "execution_count": 5,
   "metadata": {
    "collapsed": false,
    "deletable": true,
    "editable": true
   },
   "outputs": [
    {
     "data": {
      "image/png": "[encoded data removed]",
      "text/plain": [
       "<matplotlib.figure.Figure at 0x7fa9e4e6e490>"
      ]
     },
     "metadata": {},
     "output_type": "display_data"
    }
   ],
   "source": [
    "colors = ['b', 'r']\n",
    "\n",
    "z = np.linspace(-1000, +1000, 41, dtype = float)\n",
    "\n",
    "wx_plot = plt.scatter(z, w_x_mean_list, marker='o', c=colors[0], edgecolors = 'face')\n",
    "wy_plot = plt.scatter(z, w_y_mean_list, marker='o', c=colors[1], edgecolors = 'face')\n",
    "\n",
    "plt.legend((wx_plot, wy_plot),\n",
    "           ('wx', 'wy'),\n",
    "           scatterpoints=1,\n",
    "           loc='lower left',\n",
    "           ncol=3,\n",
    "           fontsize=8)\n",
    "\n",
    "plt.show()"
   ]
  },
  {
   "cell_type": "code",
   "execution_count": 23,
   "metadata": {
    "collapsed": false,
    "deletable": true,
    "editable": true
   },
   "outputs": [],
   "source": [
    "import math\n",
    "import numpy as np\n",
    "\n",
    "# x[0] : w_0\n",
    "# x[1] : d\n",
    "# x[2] : A\n",
    "# x[3] : B\n",
    "# x[4] : c\n",
    "def fun(x, z, ww):\n",
    "    return (x[0]**2)*(1 + ((z-x[4])/x[1])**2 + x[2]*((z-x[4])/x[1])**3 + x[3]*((z-x[4])/x[1])**4 + x[5]*((z-x[4])/x[1])**5 + x[6]*((z-x[4])/x[1])**6) - ww\n",
    "\n",
    "from scipy.optimize import least_squares\n",
    "\n",
    "z_ = np.array(z)\n",
    "w_x_mean_list = np.array(w_x_mean_list)\n",
    "w_y_mean_list = np.array(w_y_mean_list)\n",
    "\n",
    "x_res_robust = least_squares(fun, np.array([1, 1, 1, 1, 1, 1, 1]), args = (z, w_x_mean_list**2))\n",
    "y_res_robust = least_squares(fun, np.array([1, 1, 1, 1, 1, 1, 1]), args = (z, w_y_mean_list**2))\n",
    "\n",
    "def visaulize(z, model):\n",
    "    print(\"w_0 : {}, c : {}, d : {}, A : {}, B : {}\".format(model.x[0], model.x[4], model.x[1], model.x[2], model.x[3]))\n",
    "    w = fun(model.x, z, 0)\n",
    "\n",
    "    plt.figure(1)\n",
    "    plt.scatter(z, np.sqrt(w))"
   ]
  },
  {
   "cell_type": "code",
   "execution_count": 24,
   "metadata": {
    "collapsed": false
   },
   "outputs": [
    {
     "name": "stdout",
     "output_type": "stream",
     "text": [
      "w_0 : 236.672940133, c : -484.929967154, d : 665.209621061, A : -0.446910006257, B : 0.453663810398\n"
     ]
    },
    {
     "data": {
      "image/png": "[encoded data removed]",
      "text/plain": [
       "<matplotlib.figure.Figure at 0x7fa9e4303250>"
      ]
     },
     "metadata": {},
     "output_type": "display_data"
    }
   ],
   "source": [
    "visaulize(z, x_res_robust)\n",
    "\n",
    "plt.show()"
   ]
  },
  {
   "cell_type": "code",
   "execution_count": 25,
   "metadata": {
    "collapsed": false
   },
   "outputs": [
    {
     "name": "stdout",
     "output_type": "stream",
     "text": [
      "w_0 : -275.74566238, c : 270.799131051, d : 490.431956079, A : 0.412580108151, B : -0.132005585248\n"
     ]
    },
    {
     "data": {
      "image/png": "[encoded data removed]",
      "text/plain": [
       "<matplotlib.figure.Figure at 0x7fa9e44022d0>"
      ]
     },
     "metadata": {},
     "output_type": "display_data"
    }
   ],
   "source": [
    "visaulize(z, y_res_robust)\n",
    "\n",
    "plt.show()"
   ]
  },
  {
   "cell_type": "code",
   "execution_count": null,
   "metadata": {
    "collapsed": true
   },
   "outputs": [],
   "source": []
  }
 ],
 "metadata": {
  "kernelspec": {
   "display_name": "Python 2",
   "language": "python",
   "name": "python2"
  },
  "language_info": {
   "codemirror_mode": {
    "name": "ipython",
    "version": 2
   },
   "file_extension": ".py",
   "mimetype": "text/x-python",
   "name": "python",
   "nbconvert_exporter": "python",
   "pygments_lexer": "ipython2",
   "version": "2.7.6"
  }
 },
 "nbformat": 4,
 "nbformat_minor": 2
}
