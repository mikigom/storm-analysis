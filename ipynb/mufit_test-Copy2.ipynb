{
 "cells": [
  {
   "cell_type": "code",
   "execution_count": 2,
   "metadata": {
    "collapsed": false,
    "deletable": true,
    "editable": true
   },
   "outputs": [
    {
     "name": "stdout",
     "output_type": "stream",
     "text": [
      "Peak finding\n",
      "(' Removing negative values in frame', 0)\n",
      "('Frame:', 0, 5, 5)\n",
      "(' Removing negative values in frame', 1)\n",
      "('Frame:', 1, 5, 10)\n",
      "(' Removing negative values in frame', 2)\n",
      "('Frame:', 2, 5, 15)\n",
      "(' Removing negative values in frame', 3)\n",
      "('Frame:', 3, 5, 20)\n",
      "(' Removing negative values in frame', 4)\n",
      "('Frame:', 4, 5, 25)\n",
      "(' Removing negative values in frame', 5)\n",
      "('Frame:', 5, 6, 31)\n",
      "(' Removing negative values in frame', 6)\n",
      "('Frame:', 6, 7, 38)\n",
      "(' Removing negative values in frame', 7)\n",
      "('Frame:', 7, 5, 43)\n",
      "(' Removing negative values in frame', 8)\n",
      "('Frame:', 8, 8, 51)\n",
      "(' Removing negative values in frame', 9)\n",
      "('Frame:', 9, 3, 54)\n",
      "(' Removing negative values in frame', 10)\n",
      "('Frame:', 10, 4, 58)\n",
      "(' Removing negative values in frame', 11)\n",
      "('Frame:', 11, 1, 59)\n",
      "(' Removing negative values in frame', 12)\n",
      "('Frame:', 12, 4, 63)\n",
      "(' Removing negative values in frame', 13)\n",
      "('Frame:', 13, 5, 68)\n",
      "(' Removing negative values in frame', 14)\n",
      "('Frame:', 14, 4, 72)\n",
      "(' Removing negative values in frame', 15)\n",
      "('Frame:', 15, 2, 74)\n",
      "(' Removing negative values in frame', 16)\n",
      "('Frame:', 16, 4, 78)\n",
      "(' Removing negative values in frame', 17)\n",
      "('Frame:', 17, 2, 80)\n",
      "(' Removing negative values in frame', 18)\n",
      "('Frame:', 18, 3, 83)\n",
      "(' Removing negative values in frame', 19)\n",
      "('Frame:', 19, 5, 88)\n",
      "(' Removing negative values in frame', 20)\n",
      "('Frame:', 20, 3, 91)\n",
      "(' Removing negative values in frame', 21)\n",
      "('Frame:', 21, 3, 94)\n",
      "(' Removing negative values in frame', 22)\n",
      "('Frame:', 22, 2, 96)\n",
      "(' Removing negative values in frame', 23)\n",
      "('Frame:', 23, 1, 97)\n",
      "(' Removing negative values in frame', 24)\n",
      "('Frame:', 24, 3, 100)\n",
      "(' Removing negative values in frame', 25)\n",
      "('Frame:', 25, 3, 103)\n",
      "(' Removing negative values in frame', 26)\n",
      "('Frame:', 26, 8, 111)\n",
      "(' Removing negative values in frame', 27)\n",
      "('Frame:', 27, 6, 117)\n",
      "(' Removing negative values in frame', 28)\n",
      "('Frame:', 28, 8, 125)\n",
      "(' Removing negative values in frame', 29)\n",
      "('Frame:', 29, 8, 133)\n",
      "(' Removing negative values in frame', 30)\n",
      "('Frame:', 30, 10, 143)\n",
      "(' Removing negative values in frame', 31)\n",
      "('Frame:', 31, 12, 155)\n",
      "(' Removing negative values in frame', 32)\n",
      "('Frame:', 32, 6, 161)\n",
      "(' Removing negative values in frame', 33)\n",
      "('Frame:', 33, 6, 167)\n",
      "(' Removing negative values in frame', 34)\n",
      "('Frame:', 34, 6, 173)\n",
      "(' Removing negative values in frame', 35)\n",
      "('Frame:', 35, 0, 173)\n",
      "(' Removing negative values in frame', 36)\n",
      "('Frame:', 36, 5, 178)\n",
      "(' Removing negative values in frame', 37)\n",
      "('Frame:', 37, 0, 178)\n",
      "(' Removing negative values in frame', 38)\n",
      "('Frame:', 38, 0, 178)\n",
      "(' Removing negative values in frame', 39)\n",
      "('Frame:', 39, 3, 181)\n",
      "(' Removing negative values in frame', 40)\n",
      "('Frame:', 40, 4, 185)\n",
      "\n",
      "('Added', 185)\n",
      "\n",
      "Tracking\n",
      "\n",
      "Analysis complete\n"
     ]
    }
   ],
   "source": [
    "from storm_analysis.daostorm_3d.mufit_analysis import analyze\n",
    "analyze(\"beadsample.tiff\", \"sample_plate-part.bin\", \"3d_sample.xml\")"
   ]
  },
  {
   "cell_type": "code",
   "execution_count": null,
   "metadata": {
    "collapsed": true,
    "deletable": true,
    "editable": true
   },
   "outputs": [],
   "source": []
  }
 ],
 "metadata": {
  "kernelspec": {
   "display_name": "Python 2",
   "language": "python",
   "name": "python2"
  },
  "language_info": {
   "codemirror_mode": {
    "name": "ipython",
    "version": 2
   },
   "file_extension": ".py",
   "mimetype": "text/x-python",
   "name": "python",
   "nbconvert_exporter": "python",
   "pygments_lexer": "ipython2",
   "version": "2.7.6"
  }
 },
 "nbformat": 4,
 "nbformat_minor": 1
}
