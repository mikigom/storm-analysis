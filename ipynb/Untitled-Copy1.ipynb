{
 "cells": [
  {
   "cell_type": "code",
   "execution_count": 1,
   "metadata": {
    "collapsed": false,
    "deletable": true,
    "editable": true
   },
   "outputs": [],
   "source": [
    "from storm_analysis.daostorm_3d.mufit_analysis import analyze\n",
    "import storm_analysis.sa_library.readinsight3 as readinsight3\n",
    "import sys\n",
    "import numpy as np\n",
    "import matplotlib.pyplot as plt"
   ]
  },
  {
   "cell_type": "code",
   "execution_count": 2,
   "metadata": {
    "collapsed": true,
    "deletable": true,
    "editable": true
   },
   "outputs": [],
   "source": [
    "sample_i3 = './sample_plate.bin'"
   ]
  },
  {
   "cell_type": "code",
   "execution_count": 3,
   "metadata": {
    "collapsed": false,
    "deletable": true,
    "editable": true
   },
   "outputs": [
    {
     "name": "stdout",
     "output_type": "stream",
     "text": [
      "('Version:', 'M425')\n",
      "('Frames:', 1)\n",
      "('Status:', 6)\n",
      "('Molecules:', 6678)\n",
      "\n"
     ]
    }
   ],
   "source": [
    "i3_reader = readinsight3.I3Reader(sample_i3)\n",
    "frames = i3_reader.getNumberFrames()\n",
    "data = i3_reader.getMoleculesInFrameRange(start = 1, stop = frames + 1)\n",
    "molecules = len(data)"
   ]
  },
  {
   "cell_type": "code",
   "execution_count": 4,
   "metadata": {
    "collapsed": false,
    "deletable": true,
    "editable": true
   },
   "outputs": [],
   "source": [
    "xc = np.zeros(molecules)\n",
    "yc = np.zeros(molecules)\n",
    "zc = np.zeros(molecules)\n",
    "w = np.zeros(molecules)\n",
    "ratio = np.zeros(molecules)"
   ]
  },
  {
   "cell_type": "code",
   "execution_count": 5,
   "metadata": {
    "collapsed": true,
    "deletable": true,
    "editable": true
   },
   "outputs": [],
   "source": [
    "for i in range(molecules):\n",
    "    xc[i] = data[i][2]\n",
    "    yc[i] = data[i][3]\n",
    "    zc[i] = data[i][17]\n",
    "    w[i] = data[i][6]\n",
    "    ratio[i] = data[i][8]"
   ]
  },
  {
   "cell_type": "code",
   "execution_count": 6,
   "metadata": {
    "collapsed": false,
    "deletable": true,
    "editable": true
   },
   "outputs": [
    {
     "data": {
      "text/plain": [
       "array([ 125.07336426,  174.93818665,  225.36109924, ...,  199.75743103,\n",
       "         75.11397552,   99.89265442])"
      ]
     },
     "execution_count": 6,
     "metadata": {},
     "output_type": "execute_result"
    }
   ],
   "source": [
    "xc"
   ]
  },
  {
   "cell_type": "code",
   "execution_count": 7,
   "metadata": {
    "collapsed": false,
    "deletable": true,
    "editable": true
   },
   "outputs": [
    {
     "data": {
      "text/plain": [
       "array([  50.03527832,  175.01818848,  225.06057739, ...,  225.02732849,\n",
       "        124.82183075,   75.13622284])"
      ]
     },
     "execution_count": 7,
     "metadata": {},
     "output_type": "execute_result"
    }
   ],
   "source": [
    "yc"
   ]
  },
  {
   "cell_type": "code",
   "execution_count": 8,
   "metadata": {
    "collapsed": false,
    "deletable": true,
    "editable": true
   },
   "outputs": [
    {
     "name": "stdout",
     "output_type": "stream",
     "text": [
      "( 125.07336426,  50.03527832,  125.07336426,  50.03527832,  45.44120026,  1100.60839844,  392.67364502,   1.40129846e-45,  1.14217889,  20.9861908,  229.71212769, 0, 0, 1, 1, 0,  0.,  0.)\n"
     ]
    }
   ],
   "source": [
    "print(data[0])"
   ]
  },
  {
   "cell_type": "code",
   "execution_count": null,
   "metadata": {
    "collapsed": false,
    "deletable": true,
    "editable": true
   },
   "outputs": [],
   "source": [
    "%matplotlib notebook\n",
    "\n",
    "from mpl_toolkits.mplot3d import axes3d\n",
    "import matplotlib.pyplot as plt\n",
    "\n",
    "fig = plt.figure()\n",
    "ax = fig.add_subplot(111, projection='3d')\n",
    "\n",
    "# load some test data for demonstration and plot a wireframe\n",
    "X, Y, Z = axes3d.get_test_data(0.1)\n",
    "ax.scatter(xc, yc, zc)\n",
    "ax.set_xlabel('x')\n",
    "ax.set_ylabel('y')\n",
    "ax.set_zlabel('z')\n",
    "\n",
    "# rotate the axes and update\n",
    "for angle in range(0, 360):\n",
    "    ax.view_init(30, angle)\n",
    "    plt.draw()"
   ]
  },
  {
   "cell_type": "code",
   "execution_count": 9,
   "metadata": {
    "collapsed": false,
    "deletable": true,
    "editable": true
   },
   "outputs": [
    {
     "name": "stdout",
     "output_type": "stream",
     "text": [
      "[  367.42160388   585.93575405  1098.06713608 ...,   851.21502804\n",
      "   269.03995972   308.52033523]\n",
      "[ 419.66120082  304.59647574  355.56261176 ...,  327.48007779  724.76613519\n",
      "  526.81093443]\n",
      "[ -55.22949213  166.39193948  390.49377202 ...,  276.6996917  -277.27121861\n",
      " -167.14375747]\n"
     ]
    }
   ],
   "source": [
    "# Case 1 # '/ nm_per_pixel' is needed\n",
    "w_x = np.sqrt(w*w/ratio)\n",
    "w_y = np.sqrt(w*w*ratio)\n",
    "#w_x = w*w/ratio / 160\n",
    "#w_y = w*w*ratio / 160\n",
    "\n",
    "# -2.92057349e-14   4.44444442e+00  -6.11111108e+02\n",
    "\n",
    "z = 4.44444442e+00*xc + 0*yc -6.11111108e+02\n",
    "\n",
    "print(w_x)\n",
    "print(w_y)\n",
    "print(z)"
   ]
  },
  {
   "cell_type": "code",
   "execution_count": 21,
   "metadata": {
    "collapsed": false,
    "deletable": true,
    "editable": true
   },
   "outputs": [
    {
     "data": {
      "image/png": "[encoded data removed]",
      "text/plain": [
       "<matplotlib.figure.Figure at 0x7fd4a5dfaf90>"
      ]
     },
     "metadata": {},
     "output_type": "display_data"
    }
   ],
   "source": [
    "colors = ['b', 'r']\n",
    "\n",
    "wx_plot = plt.scatter(z, ratio, marker='o', c=colors[0], edgecolors = 'face')\n",
    "wy_plot = plt.scatter(z, w_y/w_x, marker='o', c=colors[1], edgecolors = 'face')\n",
    "\n",
    "plt.legend((wx_plot, wy_plot),\n",
    "           ('wx', 'wy'),\n",
    "           scatterpoints=1,\n",
    "           loc='lower left',\n",
    "           ncol=3,\n",
    "           fontsize=8)\n",
    "\n",
    "plt.show()"
   ]
  },
  {
   "cell_type": "code",
   "execution_count": 13,
   "metadata": {
    "collapsed": true,
    "deletable": true,
    "editable": true
   },
   "outputs": [],
   "source": [
    "import math\n",
    "\n",
    "# x[0] : w_0\n",
    "# x[1] : d\n",
    "# x[2] : A\n",
    "# x[3] : B\n",
    "# x[4] : c\n",
    "def fun(x, z, ww):\n",
    "    return (x[0]**2)*(1 + ((z-x[4])/x[1])**2 + x[2]*((z-x[4])/x[1])**3 + x[3]*((z-x[4])/x[1])**4) - ww"
   ]
  },
  {
   "cell_type": "code",
   "execution_count": 37,
   "metadata": {
    "collapsed": false,
    "deletable": true,
    "editable": true
   },
   "outputs": [],
   "source": [
    "from scipy.optimize import least_squares\n",
    "\n",
    "x_res_robust = least_squares(fun, np.ones(5), args = (z, w_x**2))\n",
    "y_res_robust = least_squares(fun, np.ones(5), args = (z, w_y**2))"
   ]
  },
  {
   "cell_type": "code",
   "execution_count": 38,
   "metadata": {
    "collapsed": true,
    "deletable": true,
    "editable": true
   },
   "outputs": [],
   "source": [
    "def visaulize(z, model):\n",
    "    print(\"w_0 : {}, c : {}, d : {}, A : {}, B : {}\".format(model.x[0], model.x[4], model.x[1], model.x[2], model.x[3]))\n",
    "    w = fun(model.x, z, 0)\n",
    "\n",
    "    plt.figure(1)\n",
    "    plt.scatter(z, np.sqrt(w))"
   ]
  },
  {
   "cell_type": "code",
   "execution_count": 39,
   "metadata": {
    "collapsed": false,
    "deletable": true,
    "editable": true
   },
   "outputs": [
    {
     "name": "stdout",
     "output_type": "stream",
     "text": [
      "w_0 : 296.682180569, c : -112.893310353, d : 168.464303039, A : 0.359569665712, B : -0.110754506843\n"
     ]
    },
    {
     "name": "stderr",
     "output_type": "stream",
     "text": [
      "/usr/local/lib/python2.7/dist-packages/ipykernel/__main__.py:6: RuntimeWarning: invalid value encountered in sqrt\n"
     ]
    },
    {
     "data": {
      "image/png": "[encoded data removed]",
      "text/plain": [
       "<matplotlib.figure.Figure at 0x7fd4a5eb9810>"
      ]
     },
     "metadata": {},
     "output_type": "display_data"
    }
   ],
   "source": [
    "visaulize(z, x_res_robust)\n",
    "\n",
    "plt.show()"
   ]
  },
  {
   "cell_type": "code",
   "execution_count": 40,
   "metadata": {
    "collapsed": false,
    "deletable": true,
    "editable": true
   },
   "outputs": [
    {
     "name": "stdout",
     "output_type": "stream",
     "text": [
      "w_0 : 286.651259694, c : 98.8297884135, d : 143.727959104, A : -0.27295894737, B : -0.0979220831859\n"
     ]
    },
    {
     "name": "stderr",
     "output_type": "stream",
     "text": [
      "/usr/local/lib/python2.7/dist-packages/ipykernel/__main__.py:6: RuntimeWarning: invalid value encountered in sqrt\n"
     ]
    },
    {
     "data": {
      "image/png": "[encoded data removed]",
      "text/plain": [
       "<matplotlib.figure.Figure at 0x7fd4a5f814d0>"
      ]
     },
     "metadata": {},
     "output_type": "display_data"
    }
   ],
   "source": [
    "visaulize(z, y_res_robust)\n",
    "\n",
    "plt.show()"
   ]
  },
  {
   "cell_type": "code",
   "execution_count": null,
   "metadata": {
    "collapsed": true,
    "deletable": true,
    "editable": true
   },
   "outputs": [],
   "source": []
  }
 ],
 "metadata": {
  "kernelspec": {
   "display_name": "Python 2",
   "language": "python",
   "name": "python2"
  },
  "language_info": {
   "codemirror_mode": {
    "name": "ipython",
    "version": 2
   },
   "file_extension": ".py",
   "mimetype": "text/x-python",
   "name": "python",
   "nbconvert_exporter": "python",
   "pygments_lexer": "ipython2",
   "version": "2.7.6"
  }
 },
 "nbformat": 4,
 "nbformat_minor": 2
}
