{
 "cells": [
  {
   "cell_type": "code",
   "execution_count": 49,
   "metadata": {
    "collapsed": false,
    "deletable": true,
    "editable": true
   },
   "outputs": [],
   "source": [
    "from storm_analysis.daostorm_3d.mufit_analysis import analyze\n",
    "import storm_analysis.sa_library.readinsight3 as readinsight3\n",
    "import sys\n",
    "import numpy as np\n",
    "import matplotlib.pyplot as plt\n",
    "\n",
    "import warnings\n",
    "warnings.simplefilter('error', RuntimeWarning)"
   ]
  },
  {
   "cell_type": "code",
   "execution_count": 50,
   "metadata": {
    "collapsed": true,
    "deletable": true,
    "editable": true
   },
   "outputs": [],
   "source": [
    "sample_i3 = './sample_plate-Copy1.bin'\n",
    "\n",
    "image_x_size = 512\n",
    "image_y_size = 496"
   ]
  },
  {
   "cell_type": "code",
   "execution_count": 51,
   "metadata": {
    "collapsed": false,
    "deletable": true,
    "editable": true
   },
   "outputs": [
    {
     "name": "stdout",
     "output_type": "stream",
     "text": [
      "('Version:', 'M425')\n",
      "('Frames:', 1)\n",
      "('Status:', 6)\n",
      "('Molecules:', 11284)\n",
      "\n"
     ]
    }
   ],
   "source": [
    "i3_reader = readinsight3.I3Reader(sample_i3)\n",
    "frames = i3_reader.getNumberFrames()\n",
    "\n",
    "w_x_mean_list = []\n",
    "w_y_mean_list = []\n",
    "frame_mean_number = []\n",
    "for i in range(1, frames+1):\n",
    "    data = i3_reader.getMoleculesInFrameRange(start = i, stop = i+1)\n",
    "    molecules = len(data)\n",
    "    \n",
    "    xc = []\n",
    "    yc = []\n",
    "    zc = []\n",
    "    w = []\n",
    "    ratio = []\n",
    "    \n",
    "    \"\"\"\n",
    "    for j in range(molecules):\n",
    "        w[j] = data[j][6]\n",
    "        ratio[j] = data[j][8]    \n",
    "    \"\"\"\n",
    "\n",
    "    for j in range(molecules):\n",
    "        if (data[j][2] > 1*image_x_size/4. and data[j][2] < 3*image_x_size/4.) and\\\n",
    "            (data[j][3] > 1*image_y_size/4. and data[j][3] < 3*image_y_size/4.):\n",
    "            xc.append(data[j][2])\n",
    "            yc.append(data[j][3])\n",
    "            w.append(data[j][6])\n",
    "            ratio.append(data[j][8])\n",
    "    \n",
    "    xc = np.array(xc)\n",
    "    yc = np.array(yc)\n",
    "    w = np.array(w)\n",
    "    ratio = np.array(ratio)\n",
    "    \n",
    "    w_x = np.sqrt(w*w/ratio)\n",
    "    w_y = np.sqrt(w*w*ratio)\n",
    "    \n",
    "    while(len(w_x) % 6 != 0):\n",
    "        w_x = np.append(w_x, np.mean(w_x))\n",
    "    while(len(w_y) % 6 != 0):\n",
    "        w_y = np.append(w_y, np.mean(w_y))\n",
    "    \n",
    "    np.random.RandomState(777)\n",
    "    np.random.shuffle(w_x)\n",
    "    np.random.RandomState(777)\n",
    "    np.random.shuffle(w_y)\n",
    "    \n",
    "    w_x_mean_updated = np.mean(w_x.reshape(-1, 6), axis=1).flatten()\n",
    "    w_y_mean_updated = np.mean(w_y.reshape(-1, 6), axis=1).flatten()\n",
    "    \n",
    "    for i, elem in enumerate(w_x_mean_updated):\n",
    "        w_x_mean_list.append(elem)\n",
    "    for i, elem in enumerate(w_y_mean_updated):\n",
    "        w_y_mean_list.append(elem)\n",
    "        \n",
    "    frame_mean_number.append(len(w_x_mean_updated))"
   ]
  },
  {
   "cell_type": "code",
   "execution_count": 54,
   "metadata": {
    "collapsed": false,
    "deletable": true,
    "editable": true,
    "scrolled": true
   },
   "outputs": [
    {
     "data": {
      "image/png": "[encoded data removed]",
      "text/plain": [
       "<matplotlib.figure.Figure at 0x7fc4f9080790>"
      ]
     },
     "metadata": {},
     "output_type": "display_data"
    }
   ],
   "source": [
    "colors = ['b', 'r']\n",
    "\n",
    "z = np.linspace(-1000, +1000, 41, dtype = float)\n",
    "z = np.array([np.repeat(z[i], frame_mean_number[i]).tolist() for i in range(41)])\n",
    "\n",
    "z_ = []\n",
    "for i, arr in enumerate(z):\n",
    "    for j, elem in enumerate(arr):\n",
    "        z_.append(elem)\n",
    "\n",
    "wx_plot = plt.scatter(z_, np.array(w_x_mean_list), marker='o', c=colors[0], edgecolors = 'face', s = 0.5)\n",
    "wy_plot = plt.scatter(z_, np.array(w_y_mean_list), marker='o', c=colors[1], edgecolors = 'face', s = 0.5)\n",
    "\n",
    "plt.legend((wx_plot, wy_plot),\n",
    "           ('wx', 'wy'),\n",
    "           scatterpoints=1,\n",
    "           loc='lower left',\n",
    "           ncol=3,\n",
    "           fontsize=8)\n",
    "\n",
    "plt.show()"
   ]
  },
  {
   "cell_type": "code",
   "execution_count": null,
   "metadata": {
    "collapsed": true
   },
   "outputs": [],
   "source": []
  },
  {
   "cell_type": "code",
   "execution_count": 46,
   "metadata": {
    "collapsed": false,
    "deletable": true,
    "editable": true
   },
   "outputs": [],
   "source": [
    "import math\n",
    "\n",
    "# x[0] : w_0\n",
    "# x[1] : d\n",
    "# x[2] : A\n",
    "# x[3] : B\n",
    "# x[4] : c\n",
    "def fun(x, z, ww):\n",
    "    return (x[0]**2)*(1 + ((z-x[4])/x[1])**2 + x[2]*((z-x[4])/x[1])**3 + x[3]*((z-x[4])/x[1])**4 + x[5]*((z-x[4])/x[1])**5 + x[6]*((z-x[4])/x[1])**6) - ww\n",
    "\n",
    "from scipy.optimize import least_squares\n",
    "\n",
    "z_ = np.array(z_)\n",
    "w_x_mean_list = np.array(w_x_mean_list)\n",
    "w_y_mean_list = np.array(w_y_mean_list)\n",
    "\n",
    "x_res_robust = least_squares(fun, np.array([1, 1, 1, 1, 1, 1, 1]), args = (z_, w_x_mean_list**2), f_scale=0.1)\n",
    "y_res_robust = least_squares(fun, np.array([1, 1, 1, 1, 1, 1, 1]), args = (z_, w_y_mean_list**2), f_scale=0.1)\n",
    "\n",
    "def visaulize(z, model):\n",
    "    print(\"w_0 : {}, c : {}, d : {}, A : {}, B : {}\".format(model.x[0], model.x[4], model.x[1], model.x[2], model.x[3]))\n",
    "    w = fun(model.x, z, 0)\n",
    "\n",
    "    plt.figure(1)\n",
    "    plt.scatter(z, np.sqrt(w))"
   ]
  },
  {
   "cell_type": "code",
   "execution_count": 47,
   "metadata": {
    "collapsed": false,
    "deletable": true,
    "editable": true
   },
   "outputs": [
    {
     "name": "stdout",
     "output_type": "stream",
     "text": [
      "w_0 : 239.31386641, c : -566.646612478, d : 537.584850479, A : -0.544458867979, B : -0.116444922778\n"
     ]
    },
    {
     "data": {
      "image/png": "[encoded data removed]",
      "text/plain": [
       "<matplotlib.figure.Figure at 0x7fc4f8eb1950>"
      ]
     },
     "metadata": {},
     "output_type": "display_data"
    }
   ],
   "source": [
    "visaulize(z_, x_res_robust)\n",
    "\n",
    "plt.show()"
   ]
  },
  {
   "cell_type": "code",
   "execution_count": 48,
   "metadata": {
    "collapsed": false,
    "deletable": true,
    "editable": true
   },
   "outputs": [
    {
     "name": "stdout",
     "output_type": "stream",
     "text": [
      "w_0 : 287.986831523, c : 283.040516126, d : 452.969742259, A : 0.290456074866, B : -0.159309938181\n"
     ]
    },
    {
     "data": {
      "image/png": "[encoded data removed]",
      "text/plain": [
       "<matplotlib.figure.Figure at 0x7fc4f8f28150>"
      ]
     },
     "metadata": {},
     "output_type": "display_data"
    }
   ],
   "source": [
    "visaulize(z_, y_res_robust)\n",
    "\n",
    "plt.show()"
   ]
  },
  {
   "cell_type": "code",
   "execution_count": null,
   "metadata": {
    "collapsed": true
   },
   "outputs": [],
   "source": []
  }
 ],
 "metadata": {
  "kernelspec": {
   "display_name": "Python 2",
   "language": "python",
   "name": "python2"
  },
  "language_info": {
   "codemirror_mode": {
    "name": "ipython",
    "version": 2
   },
   "file_extension": ".py",
   "mimetype": "text/x-python",
   "name": "python",
   "nbconvert_exporter": "python",
   "pygments_lexer": "ipython2",
   "version": "2.7.6"
  }
 },
 "nbformat": 4,
 "nbformat_minor": 2
}
